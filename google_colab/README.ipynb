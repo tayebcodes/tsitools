{
  "nbformat": 4,
  "nbformat_minor": 0,
  "metadata": {
    "colab": {
      "provenance": [],
      "toc_visible": true
    },
    "kernelspec": {
      "name": "python3",
      "display_name": "Python 3"
    },
    "language_info": {
      "name": "python"
    }
  },
  "cells": [
    {
      "cell_type": "markdown",
      "source": [
        "\n",
        "# ParticleData Module Usage\n",
        "\n",
        "This guide demonstrates how to use the `ParticleData` module from the `tsitools` package.\n",
        "\n",
        "## Installation\n",
        "\n",
        "You can install the `tsitools` package using pip:\n"
      ],
      "metadata": {
        "id": "UnC9j_EShpTZ"
      }
    },
    {
      "cell_type": "code",
      "source": [
        "!pip install tsitools"
      ],
      "metadata": {
        "id": "5KstfQX9hsyf"
      },
      "execution_count": null,
      "outputs": []
    },
    {
      "cell_type": "markdown",
      "source": [
        "## Importing the Module\n",
        "\n",
        "First, import the `ParticleData` class from the `tsitools` package."
      ],
      "metadata": {
        "id": "xaDZViZph225"
      }
    },
    {
      "cell_type": "code",
      "source": [
        "from tsitools import ParticleData"
      ],
      "metadata": {
        "id": "nG1gjPTtUP2R"
      },
      "execution_count": 4,
      "outputs": []
    },
    {
      "cell_type": "markdown",
      "source": [
        "## Reading Data\n",
        "\n",
        "The `ParticleData` module accepts either the numerical suffix at the end of the file name or the full file name to locate the file within the specified directory.\n",
        "\n",
        "### Examples for Reading Files\n",
        "\n",
        "Assume the file `2024_01_27-19_02_15-TEST_123.csv` is in the current directory.\n",
        "\n",
        "#### Using the Numerical Suffix\n",
        "\n",
        "You can initialize the `ParticleData` object using the numerical suffix at the end of the file name:"
      ],
      "metadata": {
        "id": "npBQSGB_iBv4"
      }
    },
    {
      "cell_type": "code",
      "source": [
        "data = ParticleData(directory='./', suffix=123)\n",
        "data = ParticleData(directory='./', suffix='123')"
      ],
      "metadata": {
        "id": "sDP8MAGVf1dn"
      },
      "execution_count": 5,
      "outputs": []
    },
    {
      "cell_type": "markdown",
      "source": [
        "#### Using the Full File Name\n",
        "\n",
        "You can also initialize the `ParticleData` object using the full file name with or without the `.csv` extension:"
      ],
      "metadata": {
        "id": "-pi-dJp4iLGB"
      }
    },
    {
      "cell_type": "code",
      "source": [
        "data = ParticleData(directory='./', suffix='123.csv')\n",
        "data = ParticleData(directory='./', suffix='2024_01_27-19_02_15-TEST_123.csv')"
      ],
      "metadata": {
        "id": "FLw4qwxaiQBj"
      },
      "execution_count": 6,
      "outputs": []
    },
    {
      "cell_type": "markdown",
      "source": [
        "## Specifying the Cut-off for the Oversize Bin\n",
        "\n",
        "If the cut-off for the oversize bin is not specified, it defaults to 16.6 microns. You can specify a different cut-off if needed:"
      ],
      "metadata": {
        "id": "B7lOwdJQiROr"
      }
    },
    {
      "cell_type": "code",
      "source": [
        "data = ParticleData(directory='./', suffix=123, oversize_bin_cutoff=16.6)"
      ],
      "metadata": {
        "id": "n0xiqnS9VUcV"
      },
      "execution_count": 7,
      "outputs": []
    },
    {
      "cell_type": "markdown",
      "source": [
        "\n",
        "## Examples and Explanations\n",
        "\n",
        "### data.counts\n",
        "\n",
        "**Explanation**: This property returns a 2D numpy array containing the counts of particles for each bin over time.\n",
        "\n",
        "**Example**:"
      ],
      "metadata": {
        "id": "h7-_UwZnjSRi"
      }
    },
    {
      "cell_type": "code",
      "source": [
        "from pprint import pprint\n",
        "\n",
        "counts = data.counts\n",
        "pprint(counts)"
      ],
      "metadata": {
        "colab": {
          "base_uri": "https://localhost:8080/"
        },
        "id": "CH4x6AlNjL5V",
        "outputId": "072b3741-ddfb-4709-d206-d3bc1e9f29f9"
      },
      "execution_count": 9,
      "outputs": [
        {
          "output_type": "stream",
          "name": "stdout",
          "text": [
            "array([[330., 303., 274., 219., 157., 236., 118., 188., 224., 160., 128.,\n",
            "        126., 113., 126., 100.,  50.,   9.],\n",
            "       [263., 294., 166., 175., 138., 184., 105., 168., 156., 139., 121.,\n",
            "        118.,  74.,  85.,  50.,  25.,   4.],\n",
            "       [180., 230., 196., 172.,  96., 132.,  76., 132., 113.,  84.,  87.,\n",
            "         58.,  96.,  56.,  36.,  13.,   3.],\n",
            "       [152., 172., 135., 101.,  83., 109.,  50.,  94.,  79.,  84.,  56.,\n",
            "         61.,  42.,  37.,  18.,  11.,   0.],\n",
            "       [140., 159.,  95.,  89.,  64., 108.,  41.,  65.,  94.,  71.,  49.,\n",
            "         47.,  34.,  20.,  12.,   0.,   1.],\n",
            "       [119., 126.,  97.,  77.,  51.,  71.,  43.,  58.,  66.,  42.,  36.,\n",
            "         31.,  24.,  16.,   6.,   0.,   1.]])\n"
          ]
        }
      ]
    },
    {
      "cell_type": "markdown",
      "source": [
        "### data.dlogD\n",
        "\n",
        "**Explanation**: This property returns a numpy array containing the logarithmic difference (dlogD) between consecutive bin cutoffs.\n",
        "\n",
        "**Example**:"
      ],
      "metadata": {
        "id": "U75XlE1hja5A"
      }
    },
    {
      "cell_type": "code",
      "source": [
        "dlogD = data.dlogD\n",
        "print(dlogD)"
      ],
      "metadata": {
        "colab": {
          "base_uri": "https://localhost:8080/"
        },
        "id": "BZ6MNsqRjWCr",
        "outputId": "4fbfc330-3d91-48e2-897b-f7983c392b79"
      },
      "execution_count": 10,
      "outputs": [
        {
          "output_type": "stream",
          "name": "stdout",
          "text": [
            "[0.09575035 0.09458135 0.09522561 0.0952567  0.09485718 0.09526073\n",
            " 0.09527396 0.09522076 0.09510087 0.09529553 0.09519209 0.0951657\n",
            " 0.09519533 0.09512963 0.09514258 0.09523037 0.22010809]\n"
          ]
        }
      ]
    },
    {
      "cell_type": "markdown",
      "source": [
        "### data.total_volume\n",
        "\n",
        "**Explanation**: This property returns the total volume of particles over all time points and bins, measured in femto liters.\n",
        "\n",
        "**Example**:"
      ],
      "metadata": {
        "id": "B5s85iYKjilf"
      }
    },
    {
      "cell_type": "code",
      "source": [
        "total_volume = round(data.total_volume,0)\n",
        "print(f\"total particle volume in femto liters: {total_volume}\")"
      ],
      "metadata": {
        "colab": {
          "base_uri": "https://localhost:8080/"
        },
        "id": "bn5qndKIjfWH",
        "outputId": "99c1e2ec-6df5-431c-d71a-bfd6a6f8ce2b"
      },
      "execution_count": 11,
      "outputs": [
        {
          "output_type": "stream",
          "name": "stdout",
          "text": [
            "total particle volume in femto liters: 188663.0\n"
          ]
        }
      ]
    },
    {
      "cell_type": "markdown",
      "source": [
        "### data.total_count\n",
        "\n",
        "**Explanation**: This property returns the total count of particles over all time points and bins.\n",
        "\n",
        "**Example**:"
      ],
      "metadata": {
        "id": "9u3ew6byj3hg"
      }
    },
    {
      "cell_type": "code",
      "source": [
        "total_count = data.total_count\n",
        "print(f\"total particle countL {total_volume}\")"
      ],
      "metadata": {
        "colab": {
          "base_uri": "https://localhost:8080/"
        },
        "id": "80o6Ba7vjmai",
        "outputId": "1c5e7eb5-658f-4a03-c3db-21005ceb310b"
      },
      "execution_count": 12,
      "outputs": [
        {
          "output_type": "stream",
          "name": "stdout",
          "text": [
            "total particle countL 188663.0\n"
          ]
        }
      ]
    },
    {
      "cell_type": "markdown",
      "source": [
        "### data.get_count_over_time(bin_num: Optional[int] = None) -> np.ndarray\n",
        "\n",
        "**Explanation**: This method returns the particle count over time for a specific bin, or for all bins combined if no bin number is specified.\n",
        "\n",
        "**Example**: For data collected every minute over a period of 6 minutes.\n"
      ],
      "metadata": {
        "id": "ZM5DJwrmkEd2"
      }
    },
    {
      "cell_type": "code",
      "source": [
        "count_over_time = data.get_count_over_time()\n",
        "print(count_over_time)\n",
        "\n",
        "count_over_time_bin_1 = data.get_count_over_time(bin_num=1)\n",
        "print(count_over_time_bin_1)"
      ],
      "metadata": {
        "colab": {
          "base_uri": "https://localhost:8080/"
        },
        "id": "4CEEQ2CXj_bI",
        "outputId": "19178cd6-c9b9-4ed3-8d4a-8a30960835a4"
      },
      "execution_count": 13,
      "outputs": [
        {
          "output_type": "stream",
          "name": "stdout",
          "text": [
            "[2861. 2265. 1760. 1284. 1089.  864.]\n",
            "[303. 294. 230. 172. 159. 126.]\n"
          ]
        }
      ]
    },
    {
      "cell_type": "markdown",
      "source": [
        "### data.get_volume_over_time(bin_num: Optional[int] = None) -> np.ndarray\n",
        "\n",
        "**Explanation**: This method returns the volume of particles over time for a specific bin or for all bins combined if no bin number is specified, measured in femto liters.\n",
        "\n",
        "**Example**: For data collected every minute over a period of 6 minutes."
      ],
      "metadata": {
        "id": "ihm6kfack2Dj"
      }
    },
    {
      "cell_type": "code",
      "source": [
        "import numpy as np\n",
        "\n",
        "volume_over_time = data.get_volume_over_time()\n",
        "volume_over_time = np.array([round(value,0) for value in volume_over_time])\n",
        "print(volume_over_time)\n",
        "\n",
        "volume_over_time_bin_1 = data.get_volume_over_time(bin_num=1)\n",
        "volume_over_time_bin_1 = np.array([round(value,2) for value in volume_over_time_bin_1])\n",
        "print(volume_over_time_bin_1)"
      ],
      "metadata": {
        "colab": {
          "base_uri": "https://localhost:8080/"
        },
        "id": "e0XGexgdkDis",
        "outputId": "9756bb1c-47bd-4b48-945d-e04a268c863e"
      },
      "execution_count": 14,
      "outputs": [
        {
          "output_type": "stream",
          "name": "stdout",
          "text": [
            "[77273. 44434. 31137. 17626. 10661.  7532.]\n",
            "[11.71 11.36  8.89  6.65  6.15  4.87]\n"
          ]
        }
      ]
    },
    {
      "cell_type": "markdown",
      "source": [
        "### data.header\n",
        "\n",
        "**Explanation**: This property returns a dictionary containing the header key-value pairs parsed from the CSV file.\n",
        "\n",
        "**Example**:"
      ],
      "metadata": {
        "id": "HyhcU0fGlY20"
      }
    },
    {
      "cell_type": "code",
      "source": [
        "from pprint import pprint\n",
        "\n",
        "header = data.header\n",
        "pprint(header)\n"
      ],
      "metadata": {
        "colab": {
          "base_uri": "https://localhost:8080/"
        },
        "id": "jEsKDj2uk463",
        "outputId": "4615a4b6-9756-46ac-abd3-126aeda61a56"
      },
      "execution_count": 15,
      "outputs": [
        {
          "output_type": "stream",
          "name": "stdout",
          "text": [
            "{'Alarm': '0.000 #/cm3',\n",
            " 'Bin 1 Cut Point (um)': '0.300',\n",
            " 'Bin 10 Cut Point (um)': '2.156',\n",
            " 'Bin 11 Cut Point (um)': '2.685',\n",
            " 'Bin 12 Cut Point (um)': '3.343',\n",
            " 'Bin 13 Cut Point (um)': '4.162',\n",
            " 'Bin 14 Cut Point (um)': '5.182',\n",
            " 'Bin 15 Cut Point (um)': '6.451',\n",
            " 'Bin 16 Cut Point (um)': '8.031',\n",
            " 'Bin 17 Cut Point (um)': '10.000',\n",
            " 'Bin 2 Cut Point (um)': '0.374',\n",
            " 'Bin 3 Cut Point (um)': '0.465',\n",
            " 'Bin 4 Cut Point (um)': '0.579',\n",
            " 'Bin 5 Cut Point (um)': '0.721',\n",
            " 'Bin 6 Cut Point (um)': '0.897',\n",
            " 'Bin 7 Cut Point (um)': '1.117',\n",
            " 'Bin 8 Cut Point (um)': '1.391',\n",
            " 'Bin 9 Cut Point (um)': '1.732',\n",
            " 'Calibration Date': '2021/02/02',\n",
            " 'DeadTime Correction Factor': '1.000',\n",
            " 'Density': '1.000',\n",
            " 'Errors': '',\n",
            " 'Firmware Version': '1.4',\n",
            " 'FlowCal': '1.000',\n",
            " 'Instrument Name': 'Optical Particle Sizer',\n",
            " 'Model Number': '3330',\n",
            " 'Number Channels Enabled': '16',\n",
            " 'Number of Samples': '6',\n",
            " 'Protocol Name_Number': 'TEST_123',\n",
            " 'Refractive Index': '0.000-0.000j',\n",
            " 'Sample Interval [H:M:S]': '0:1:0',\n",
            " 'Serial Number': '3330203601',\n",
            " 'Size Correction Factor': '0.000',\n",
            " 'Test Length [D:H:M:S]': '0:0:6:0',\n",
            " 'Test Start Date': '2024/01/27',\n",
            " 'Test Start Time': '19:02:15'}\n"
          ]
        }
      ]
    },
    {
      "cell_type": "markdown",
      "source": [
        "### data.data\n",
        "\n",
        "**Explanation**: This property returns a pandas DataFrame containing the parsed data from the CSV file.\n",
        "\n",
        "**Example**:\n"
      ],
      "metadata": {
        "id": "EULP1ZJKlp_g"
      }
    },
    {
      "cell_type": "code",
      "source": [
        "df = data.data\n",
        "print(df)"
      ],
      "metadata": {
        "colab": {
          "base_uri": "https://localhost:8080/"
        },
        "id": "FxZneTJ8ljY1",
        "outputId": "4cd9d754-bd87-4d07-a8bb-516fa4894c6b"
      },
      "execution_count": 46,
      "outputs": [
        {
          "output_type": "stream",
          "name": "stdout",
          "text": [
            "   Elapsed Time [s]  Bin 1  Bin 2  Bin 3  ...  Ambient Pressure (kPa)  Alarms  Errors  Unnamed: 24\n",
            "0                60    330    303    274  ...                 101.135     NaN     NaN          NaN\n",
            "1               120    263    294    166  ...                 101.137     NaN     NaN          NaN\n",
            "2               180    180    230    196  ...                 101.137     NaN     NaN          NaN\n",
            "3               240    152    172    135  ...                 101.140     NaN     NaN          NaN\n",
            "4               300    140    159     95  ...                 101.139     NaN     NaN          NaN\n",
            "5               360    119    126     97  ...                 101.145     NaN     NaN          NaN\n",
            "\n",
            "[6 rows x 25 columns]\n"
          ]
        }
      ]
    },
    {
      "cell_type": "markdown",
      "source": [
        "### data.bin_cutoffs\n",
        "\n",
        "**Explanation**: This property returns a numpy array of bin cutoffs as floats.\n",
        "\n",
        "**Example**:"
      ],
      "metadata": {
        "id": "NeO3vw4il09z"
      }
    },
    {
      "cell_type": "code",
      "source": [
        "bin_cutoffs = data.bin_cutoffs\n",
        "print(bin_cutoffs)"
      ],
      "metadata": {
        "colab": {
          "base_uri": "https://localhost:8080/"
        },
        "id": "ZwXFa0eqlwgT",
        "outputId": "eb92bab2-871a-4a3f-d04f-2a74275ead04"
      },
      "execution_count": 47,
      "outputs": [
        {
          "output_type": "stream",
          "name": "stdout",
          "text": [
            "[ 0.3    0.374  0.465  0.579  0.721  0.897  1.117  1.391  1.732  2.156\n",
            "  2.685  3.343  4.162  5.182  6.451  8.031 10.    16.6  ]\n"
          ]
        }
      ]
    },
    {
      "cell_type": "markdown",
      "source": [
        "### data.mean_diameters\n",
        "\n",
        "**Explanation**: This property returns a numpy array of mean diameters for each bin based on the bin cutoffs, measured in microns.\n",
        "\n",
        "**Example**:"
      ],
      "metadata": {
        "id": "cXfIgm9Il7Sk"
      }
    },
    {
      "cell_type": "code",
      "source": [
        "mean_diameters = data.mean_diameters\n",
        "print(mean_diameters)"
      ],
      "metadata": {
        "colab": {
          "base_uri": "https://localhost:8080/"
        },
        "id": "VETuMb3el3py",
        "outputId": "0658ba0b-f295-41ce-d920-0d006aff0257"
      },
      "execution_count": 48,
      "outputs": [
        {
          "output_type": "stream",
          "name": "stdout",
          "text": [
            "[ 0.337   0.4195  0.522   0.65    0.809   1.007   1.254   1.5615  1.944\n",
            "  2.4205  3.014   3.7525  4.672   5.8165  7.241   9.0155 13.3   ]\n"
          ]
        }
      ]
    },
    {
      "cell_type": "markdown",
      "source": [
        "### data.time_points\n",
        "\n",
        "**Explanation**: This property returns a numpy array of time points from the data.\n",
        "\n",
        "**Example**:"
      ],
      "metadata": {
        "id": "pIww-_zWmCVG"
      }
    },
    {
      "cell_type": "code",
      "source": [
        "time_points = data.time_points\n",
        "print(time_points)"
      ],
      "metadata": {
        "colab": {
          "base_uri": "https://localhost:8080/"
        },
        "id": "iUWqOQzBl9cH",
        "outputId": "1e6cd226-2f59-4ab7-8691-ed9f15e6b0db"
      },
      "execution_count": 49,
      "outputs": [
        {
          "output_type": "stream",
          "name": "stdout",
          "text": [
            "[ 60 120 180 240 300 360]\n"
          ]
        }
      ]
    },
    {
      "cell_type": "markdown",
      "source": [
        "### data.bin_volumes\n",
        "\n",
        "**Explanation**: This property returns a numpy array of volumes per particle for each bin, measured in femto liters.\n",
        "\n",
        "**Example**:"
      ],
      "metadata": {
        "id": "EwrL635DmHzd"
      }
    },
    {
      "cell_type": "code",
      "source": [
        "bin_volumes = data.bin_volumes\n",
        "print(bin_volumes)"
      ],
      "metadata": {
        "colab": {
          "base_uri": "https://localhost:8080/"
        },
        "id": "MB_kcHoJmESs",
        "outputId": "2be804a3-1a1e-4b40-a08d-dfabc34e5189"
      },
      "execution_count": 50,
      "outputs": [
        {
          "output_type": "stream",
          "name": "stdout",
          "text": [
            "[2.00395666e-02 3.86540067e-02 7.44749347e-02 1.43793314e-01\n",
            " 2.77232529e-01 5.34671499e-01 1.03250279e+00 1.99353832e+00\n",
            " 3.84669191e+00 7.42529792e+00 1.43360123e+01 2.76669143e+01\n",
            " 5.33958033e+01 1.03034773e+02 1.98789877e+02 3.83679041e+02\n",
            " 1.23183785e+03]\n"
          ]
        }
      ]
    },
    {
      "cell_type": "markdown",
      "source": [
        "## Plotting Examples\n",
        "\n"
      ],
      "metadata": {
        "id": "BPSkSqQpmTS5"
      }
    },
    {
      "cell_type": "markdown",
      "source": [
        "### Particle Counts"
      ],
      "metadata": {
        "id": "LJILtHCS2NL4"
      }
    },
    {
      "cell_type": "code",
      "source": [
        "from tsitools import ParticleData\n",
        "import matplotlib.pyplot as plt\n",
        "import numpy as np\n",
        "import seaborn as sns\n",
        "import matplotlib.ticker as ticker\n",
        "\n",
        "# Apply seaborn style\n",
        "sns.set_style('darkgrid')\n",
        "\n",
        "# Read the data\n",
        "data1 = ParticleData(directory='./', suffix='123', oversize_bin_cutoff=12.4)\n",
        "data2 = ParticleData(directory='./', suffix='124', oversize_bin_cutoff=12.4)\n",
        "data3 = ParticleData(directory='./', suffix='125', oversize_bin_cutoff=12.4)\n",
        "\n",
        "# Stack the arrays along a new dimension\n",
        "stacked_sums = np.stack((data1.sum_counts, data2.sum_counts, data3.sum_counts), axis=0)\n",
        "\n",
        "# Calculate the mean along the new dimension\n",
        "average_sums = np.mean(stacked_sums, axis=0)\n",
        "\n",
        "# Calculate the standard deviation along the new dimension\n",
        "std_sums = np.std(stacked_sums, axis=0)\n",
        "\n",
        "# Convert the width from log scale to linear scale for each bar center\n",
        "widths = data1.calculate_bar_plot_widths(log_base=10, bar_width=0.25)\n",
        "\n",
        "# Create a bar plot with adjusted widths and error bars\n",
        "plt.figure(figsize=(7, 5))\n",
        "bars = plt.bar(\n",
        "    data1.mean_diameters,\n",
        "    average_sums,\n",
        "    width=widths,\n",
        "    align='center',\n",
        "    yerr=std_sums,\n",
        "    capsize=5,\n",
        "    color='skyblue',\n",
        "    edgecolor='black',\n",
        "    linewidth=1\n",
        ")\n",
        "\n",
        "# Add grid lines\n",
        "plt.grid(True, which='both', linestyle='--', linewidth=0.5)\n",
        "\n",
        "# Use scientific notation for the y-axis\n",
        "plt.gca().yaxis.set_major_formatter(ticker.ScalarFormatter(useMathText=True))\n",
        "plt.ticklabel_format(style='sci', axis='y', scilimits=(0, 0))\n",
        "\n",
        "# Customize axes and title\n",
        "plt.xscale('log')\n",
        "plt.xlabel('Diameter (μm)', fontsize=12)\n",
        "plt.ylabel('Average Count (#)', fontsize=12)\n",
        "plt.title('Averaged Count vs Diameter', fontsize=14)\n",
        "\n",
        "# Show plot\n",
        "plt.tight_layout()\n",
        "plt.show()\n"
      ],
      "metadata": {
        "colab": {
          "base_uri": "https://localhost:8080/",
          "height": 507
        },
        "id": "xUdvd-eKqzJZ",
        "outputId": "8e4bad8a-af8d-454a-f3d2-079c73e21165"
      },
      "execution_count": 72,
      "outputs": [
        {
          "output_type": "display_data",
          "data": {
            "text/plain": [
              "<Figure size 700x500 with 1 Axes>"
            ],
            "image/png": "[encoded data removed]"
          },
          "metadata": {}
        }
      ]
    },
    {
      "cell_type": "markdown",
      "source": [
        "### Particle Volumes"
      ],
      "metadata": {
        "id": "ZhI0zNsU2jeT"
      }
    },
    {
      "cell_type": "code",
      "source": [
        "from tsitools import ParticleData\n",
        "import matplotlib.pyplot as plt\n",
        "import numpy as np\n",
        "import seaborn as sns\n",
        "import matplotlib.ticker as ticker\n",
        "\n",
        "# Apply seaborn style\n",
        "sns.set_style('darkgrid')\n",
        "\n",
        "# Read the data\n",
        "data1 = ParticleData(directory='./', suffix='123', oversize_bin_cutoff=12.4)\n",
        "data2 = ParticleData(directory='./', suffix='124', oversize_bin_cutoff=12.4)\n",
        "data3 = ParticleData(directory='./', suffix='125', oversize_bin_cutoff=12.4)\n",
        "\n",
        "# Stack the arrays along a new dimension\n",
        "stacked_sums = np.stack((data1.sum_volumes, data2.sum_volumes, data3.sum_volumes), axis=0)\n",
        "\n",
        "# Calculate the mean along the new dimension\n",
        "average_sums = np.mean(stacked_sums, axis=0)\n",
        "\n",
        "# Calculate the standard deviation along the new dimension\n",
        "std_sums = np.std(stacked_sums, axis=0)\n",
        "\n",
        "# Convert the width from log scale to linear scale for each bar center\n",
        "widths = data1.calculate_bar_plot_widths(log_base=10, bar_width=0.25)\n",
        "\n",
        "# Enhance the plot with additional styling\n",
        "plt.figure(figsize=(7, 5))\n",
        "\n",
        "# Create a bar plot with adjusted widths and error bars\n",
        "bars = plt.bar(\n",
        "    data1.mean_diameters,\n",
        "    average_sums,\n",
        "    width=widths,\n",
        "    align='center',\n",
        "    yerr=std_sums,\n",
        "    capsize=5,\n",
        "    color='coral',\n",
        "    edgecolor='black',\n",
        "    linewidth=1\n",
        ")\n",
        "\n",
        "# Add grid lines\n",
        "plt.grid(True, which='both', linestyle='--', linewidth=0.5)\n",
        "\n",
        "# Use scientific notation for the y-axis\n",
        "plt.gca().yaxis.set_major_formatter(ticker.ScalarFormatter(useMathText=True))\n",
        "plt.ticklabel_format(style='sci', axis='y', scilimits=(0, 0))\n",
        "\n",
        "# Customize axes and title\n",
        "plt.xscale('log')\n",
        "plt.xlabel('Diameter (μm)', fontsize=12)\n",
        "plt.ylabel('Average Volume (fL)', fontsize=12)\n",
        "plt.title('Averaged Volume vs Diameter', fontsize=14)\n",
        "\n",
        "# Show plot\n",
        "plt.tight_layout()\n",
        "plt.show()\n"
      ],
      "metadata": {
        "colab": {
          "base_uri": "https://localhost:8080/",
          "height": 507
        },
        "id": "w5Ml4e9dn4r-",
        "outputId": "b25965a8-61ee-48ce-9bf8-46d5d7cca3dd"
      },
      "execution_count": 71,
      "outputs": [
        {
          "output_type": "display_data",
          "data": {
            "text/plain": [
              "<Figure size 700x500 with 1 Axes>"
            ],
            "image/png": "[encoded data removed]"
          },
          "metadata": {}
        }
      ]
    },
    {
      "cell_type": "markdown",
      "source": [
        "### Counts Over Time"
      ],
      "metadata": {
        "id": "vLyC8-GYqSLs"
      }
    },
    {
      "cell_type": "code",
      "source": [
        "from tsitools import ParticleData\n",
        "import matplotlib.pyplot as plt\n",
        "import numpy as np\n",
        "import seaborn as sns\n",
        "import matplotlib.ticker as ticker\n",
        "\n",
        "colors = ['indianred', 'forestgreen', 'deepskyblue']\n",
        "\n",
        "# Extract the time points from one of the files\n",
        "time_points = ParticleData(directory='./', suffix='123').time_points\n",
        "\n",
        "# Read the data collected over 6 minutes in 1 minute intervals\n",
        "data1 = ParticleData(directory='./', suffix='123')\n",
        "data2 = ParticleData(directory='./', suffix='124')\n",
        "data3 = ParticleData(directory='./', suffix='125')\n",
        "\n",
        "count_over_time1 = data1.get_count_over_time()\n",
        "count_over_time2 = data2.get_count_over_time()\n",
        "count_over_time3 = data3.get_count_over_time()\n",
        "\n",
        "# Stack the arrays along a new dimension and obtain average and standard deviation\n",
        "stacked_total = np.stack((count_over_time1, count_over_time2, count_over_time3), axis=0)\n",
        "average_total = np.mean(stacked_total, axis=0)\n",
        "std_total = np.std(stacked_total, axis=0)\n",
        "\n",
        "# bin numbers start from 0 so bin_num = 0 means the first bin\n",
        "count_bin1_1 = data1.get_count_over_time(bin_num=0)\n",
        "count_bin1_2 = data2.get_count_over_time(bin_num=0)\n",
        "count_bin1_3 = data3.get_count_over_time(bin_num=0)\n",
        "\n",
        "# Stack the arrays along a new dimension and obtain average and standard deviation\n",
        "stacked_bin1 = np.stack((count_bin1_1, count_bin1_2, count_bin1_3), axis=0)\n",
        "average_bin1 = np.mean(stacked_bin1, axis=0)\n",
        "std_bin1 = np.std(stacked_bin1, axis=0)\n",
        "\n",
        "# bin numbers start from 0 so bin_num = 5 means the sixth bin\n",
        "count_bin6_1 = data1.get_count_over_time(bin_num=5)\n",
        "count_bin6_2 = data2.get_count_over_time(bin_num=5)\n",
        "count_bin6_3 = data3.get_count_over_time(bin_num=5)\n",
        "\n",
        "# Stack the arrays along a new dimension and obtain average and standard deviation\n",
        "stacked_bin6 = np.stack((count_bin6_1, count_bin6_2, count_bin6_3), axis=0)\n",
        "average_bin6 = np.mean(stacked_bin6, axis=0)\n",
        "std_bin6 = np.std(stacked_bin6, axis=0)\n",
        "\n",
        "# Plot counts over time for all bins combined as well as bins 1 and 6\n",
        "plt.figure(figsize=(7, 5))\n",
        "plt.errorbar(time_points, average_total, yerr=std_total, fmt='o--', markerfacecolor='white', markersize=8, color=colors[0], label='Total Count', capsize=5)\n",
        "plt.errorbar(time_points, average_bin1, yerr=std_bin1, fmt='o--', markerfacecolor='white', markersize=8, color=colors[1], label='Bin 1', capsize=5)\n",
        "plt.errorbar(time_points, average_bin6, yerr=std_bin6, fmt='o--', markerfacecolor='white', markersize=8, color=colors[2], label='Bin 6', capsize=5)\n",
        "\n",
        "# Use scientific notation for the y-axis\n",
        "plt.gca().yaxis.set_major_formatter(ticker.ScalarFormatter(useMathText=True))\n",
        "plt.ticklabel_format(style='sci', axis='y', scilimits=(0, 0))\n",
        "\n",
        "plt.xlabel('Time (s)', fontsize=12)\n",
        "plt.ylabel('Particle Count (#)', fontsize=12)\n",
        "plt.title('Particle Count Over Time', fontsize=14)\n",
        "plt.legend()\n",
        "plt.tight_layout()\n",
        "plt.show()\n"
      ],
      "metadata": {
        "colab": {
          "base_uri": "https://localhost:8080/",
          "height": 507
        },
        "id": "VcplBaYFmLWR",
        "outputId": "b6f83fed-1751-478a-848c-cdf3158ddc9b"
      },
      "execution_count": 73,
      "outputs": [
        {
          "output_type": "display_data",
          "data": {
            "text/plain": [
              "<Figure size 700x500 with 1 Axes>"
            ],
            "image/png": "[encoded data removed]"
          },
          "metadata": {}
        }
      ]
    },
    {
      "cell_type": "code",
      "source": [],
      "metadata": {
        "id": "tbNCjNvnExRg"
      },
      "execution_count": null,
      "outputs": []
    }
  ]
}